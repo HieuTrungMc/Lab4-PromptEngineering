{
 "cells": [
  {
   "cell_type": "code",
   "execution_count": 2,
   "metadata": {},
   "outputs": [
    {
     "name": "stdout",
     "output_type": "stream",
     "text": [
      "Zero-shot summary result:\n",
      "Apple vừa ra mắt dòng sản phẩm iPhone mới với chip A16 mạnh mẽ, camera 48MP cải tiến và nhiều tính năng nổi bật, hứa hẹn mang đến trải nghiệm mới cho người dùng.\n"
     ]
    }
   ],
   "source": [
    "from prompt_utils import send_prompt\n",
    "\n",
    "summary_prompt = \"\"\"\n",
    "Hãy đọc đoạn văn sau và tóm tắt nội dung chính một cách ngắn gọn, dễ hiểu, và súc tích nhất có thể:\n",
    "Đoạn văn: 'Trong một sự kiện công nghệ lớn, Apple đã giới thiệu dòng sản phẩm iPhone mới nhất với chip A16 mạnh mẽ, camera 48MP cải tiến, và nhiều tính năng vượt trội, hứa hẹn mang lại trải nghiệm đột phá cho người dùng.'\n",
    "\"\"\"\n",
    "summary_result = send_prompt(summary_prompt)\n",
    "print(\"Zero-shot summary result:\")\n",
    "print(summary_result)"
   ]
  }
 ],
 "metadata": {
  "kernelspec": {
   "display_name": "Python 3",
   "language": "python",
   "name": "python3"
  },
  "language_info": {
   "codemirror_mode": {
    "name": "ipython",
    "version": 3
   },
   "file_extension": ".py",
   "mimetype": "text/x-python",
   "name": "python",
   "nbconvert_exporter": "python",
   "pygments_lexer": "ipython3",
   "version": "3.10.11"
  }
 },
 "nbformat": 4,
 "nbformat_minor": 2
}

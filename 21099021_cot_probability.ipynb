{
 "cells": [
  {
   "cell_type": "code",
   "execution_count": 1,
   "metadata": {},
   "outputs": [
    {
     "name": "stdout",
     "output_type": "stream",
     "text": [
      "Chain-of-Thought Probability result:\n",
      "Để giải bài toán xác suất, chúng ta sẽ thực hiện từng bước như sau:\n",
      "\n",
      "### Bước 1: Tính tổng số quả bóng trong hộp.\n",
      "- Số lượng quả bóng đỏ: 5\n",
      "- Số lượng quả bóng xanh: 3\n",
      "- Số lượng quả bóng vàng: 2\n",
      "\n",
      "**Tổng số quả bóng** = Số bóng đỏ + Số bóng xanh + Số bóng vàng  \n",
      "Tổng số quả bóng = 5 + 3 + 2 = 10\n",
      "\n",
      "### Bước 2: Tính số lượng quả bóng đỏ.\n",
      "Số lượng quả bóng đỏ trong hộp là 5.\n",
      "\n",
      "### Bước 3: Tính xác suất để rút được quả bóng đỏ.\n",
      "Xác suất để rút được một quả bóng đỏ là tỉ lệ giữa số lượng quả bóng đỏ và tổng số quả bóng.\n",
      "\n",
      "**Xác suất (P)** = Số lượng bóng đỏ / Tổng số bóng  \n",
      "P = 5 / 10 = 1/2\n",
      "\n",
      "### Kết luận:\n",
      "Xác suất để rút được quả bóng đỏ từ hộp là **1/2**, tức là **50%**.\n"
     ]
    }
   ],
   "source": [
    "from prompt_utils import send_prompt\n",
    "\n",
    "cot_probability_prompt = \"\"\"Giải bài toán xác suất sau đây, hãy suy nghĩ từng bước:\n",
    "\n",
    "Một hộp chứa 5 quả bóng đỏ, 3 quả bóng xanh và 2 quả bóng vàng. Nếu rút ngẫu nhiên một quả bóng từ hộp, xác suất để rút được quả bóng đỏ là bao nhiêu?\n",
    "\n",
    "Hãy giải bài toán từng bước:\n",
    "1. Tính tổng số quả bóng trong hộp.\n",
    "2. Tính số lượng quả bóng đỏ.\n",
    "3. Chia số lượng quả bóng đỏ cho tổng số quả bóng để tìm xác suất.\n",
    "\"\"\"\n",
    "result_probability = send_prompt(cot_probability_prompt)\n",
    "print(\"Chain-of-Thought Probability result:\")\n",
    "print(result_probability)"
   ]
  }
 ],
 "metadata": {
  "kernelspec": {
   "display_name": "Python 3",
   "language": "python",
   "name": "python3"
  },
  "language_info": {
   "codemirror_mode": {
    "name": "ipython",
    "version": 3
   },
   "file_extension": ".py",
   "mimetype": "text/x-python",
   "name": "python",
   "nbconvert_exporter": "python",
   "pygments_lexer": "ipython3",
   "version": "3.10.11"
  }
 },
 "nbformat": 4,
 "nbformat_minor": 2
}

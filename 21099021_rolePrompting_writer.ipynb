{
 "cells": [
  {
   "cell_type": "code",
   "execution_count": 2,
   "metadata": {},
   "outputs": [
    {
     "name": "stdout",
     "output_type": "stream",
     "text": [
      "Role prompting result (Writer):\n",
      "Chỉ còn lại âm thanh lách cách của đôi giày trên con phố cũ, nơi từng in dấu những mộng mơ và hoài niệm. Ánh đèn vàng dần mờ nhạt trong cái rét đầu đông, như những giọt sương lúc bình minh chưa kịp tan. Ngồi bên quán cà phê nhỏ, nơi khói thuốc và mùi cà phê quyện với nhau trong không gian hoài cổ, Hân mở cuốn sổ tay đã cũ, trên trang giấy ố vàng vẫn ghi lại những mảnh ghép của cuộc đời nàng. Những hình vẽ ngẫu hứng, những dòng chữ mờ nhòe, tất cả như những vết nứt trên bức tường kí ức, nhắc nhở nàng về mỗi người đã đi qua, đã để lại một phần hồn mình trong đó.\n",
      "\n",
      "Hân lật giở từng trang, và bỗng, một bức ảnh cũ rơi ra, làm nàng giật mình. Đó là khoảnh khắc giản dị nhưng đầy ám ảnh: một nụ cười dạn dĩ giữa mùa đông lạnh lẽo, vô tình làm bừng sáng cả không gian u ám. Đó chính là Hải, người bạn tri kỷ mà nàng đã đánh mất trong dòng chảy của thời gian. Nhìn sâu vào ánh mắt của Hải trong bức ảnh, Hân cảm thấy như có một sợi dây vô hình kéo nàng về phía quá khứ, nơi những bí mật chôn vùi đang chực chờ được khám phá. Liệu cô có đủ dũng cảm để bước vào hành trình tìm lại những gì đã mất, hay chỉ có thể tiếp tục im lặng, sống trong ký ức mờ ảo ấy?\n"
     ]
    }
   ],
   "source": [
    "from prompt_utils import send_prompt\n",
    "\n",
    "role_prompt_writer = \"\"\"Bạn là một nhà văn nổi tiếng với nhiều tác phẩm bán chạy. Hãy viết một đoạn mở đầu truyện ngắn thật cuốn hút, khiến người đọc không thể rời mắt.\"\"\"\n",
    "\n",
    "system_message_writer = \"Bạn là một nhà văn nổi tiếng, từng đoạt giải thưởng văn học quốc tế, với phong cách viết giàu cảm xúc và hình ảnh.\"\n",
    "\n",
    "result_writer = send_prompt(role_prompt_writer, system_message_writer)\n",
    "print(\"Role prompting result (Writer):\")\n",
    "print(result_writer)"
   ]
  }
 ],
 "metadata": {
  "kernelspec": {
   "display_name": "Python 3",
   "language": "python",
   "name": "python3"
  },
  "language_info": {
   "codemirror_mode": {
    "name": "ipython",
    "version": 3
   },
   "file_extension": ".py",
   "mimetype": "text/x-python",
   "name": "python",
   "nbconvert_exporter": "python",
   "pygments_lexer": "ipython3",
   "version": "3.10.11"
  }
 },
 "nbformat": 4,
 "nbformat_minor": 2
}

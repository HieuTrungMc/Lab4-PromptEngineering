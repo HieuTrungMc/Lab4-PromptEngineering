{
 "cells": [
  {
   "cell_type": "code",
   "execution_count": 1,
   "metadata": {},
   "outputs": [
    {
     "name": "stdout",
     "output_type": "stream",
     "text": [
      "Zero-shot sentiment analysis result:\n",
      "Bình luận này thể hiện cảm xúc tiêu cực. Cụ thể, người bình luận nhận thấy thiết kế của sản phẩm đẹp (một điểm tích cực), nhưng đồng thời cũng cho biết hiệu năng không đáp ứng được kỳ vọng, dẫn đến cảm giác thất vọng. Sự kết hợp giữa nhận xét tích cực về thiết kế và tiêu cực về hiệu năng cho thấy cảm xúc chung là tiêu cực do sự thất vọng chiếm ưu thế.\n"
     ]
    }
   ],
   "source": [
    "from prompt_utils import send_prompt\n",
    "\n",
    "sentiment_prompt = \"\"\"\n",
    "Hãy đọc bình luận sau và phân tích cảm xúc của nó. Xác định xem cảm xúc là Tích cực, Tiêu cực hay Trung lập:\n",
    "Bình luận: 'Mặc dù thiết kế của sản phẩm khá đẹp, nhưng hiệu năng không đáp ứng được kỳ vọng của tôi. Tôi cảm thấy hơi thất vọng.'\n",
    "\"\"\"\n",
    "sentiment_result = send_prompt(sentiment_prompt)\n",
    "print(\"Zero-shot sentiment analysis result:\")\n",
    "print(sentiment_result)"
   ]
  }
 ],
 "metadata": {
  "kernelspec": {
   "display_name": "Python 3",
   "language": "python",
   "name": "python3"
  },
  "language_info": {
   "codemirror_mode": {
    "name": "ipython",
    "version": 3
   },
   "file_extension": ".py",
   "mimetype": "text/x-python",
   "name": "python",
   "nbconvert_exporter": "python",
   "pygments_lexer": "ipython3",
   "version": "3.10.11"
  }
 },
 "nbformat": 4,
 "nbformat_minor": 2
}

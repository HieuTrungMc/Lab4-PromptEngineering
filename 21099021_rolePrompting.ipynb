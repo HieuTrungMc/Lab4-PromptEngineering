{
 "cells": [
  {
   "cell_type": "code",
   "execution_count": 1,
   "metadata": {},
   "outputs": [
    {
     "name": "stdout",
     "output_type": "stream",
     "text": [
      "Role prompting result:\n",
      "Để tăng cường sức khỏe tim mạch, chế độ ăn uống là một yếu tố rất quan trọng. Dưới đây là một số lời khuyên dinh dưỡng mà bạn có thể áp dụng:\n",
      "\n",
      "1. **Tăng cường thực phẩm từ thực vật**:\n",
      "   - Ăn nhiều trái cây, rau củ, ngũ cốc nguyên hạt, và các loại đậu. Chúng chứa nhiều vitamin, khoáng chất, chất xơ và các chất chống oxy hóa có lợi cho sức khỏe tim mạch.\n",
      "\n",
      "2. **Lựa chọn chất béo lành mạnh**:\n",
      "   - Chọn các loại chất béo không bão hòa có nguồn gốc thực vật như dầu ô liu, dầu hạt lanh, và các loại hạt. Hạn chế chất béo bão hòa (có trong thịt đỏ, sản phẩm từ sữa béo) và tránh chất béo chuyển hóa (có trong thực phẩm chiên và thực phẩm chế biến sẵn).\n",
      "\n",
      "3. **Tiêu thụ đủ omega-3**:\n",
      "   - Các axit béo omega-3, có trong cá hồi, cá thu, hạt lanh và quả óc chó, giúp làm giảm viêm và bảo vệ tim mạch.\n",
      "\n",
      "4. **Hạn chế muối và đường**:\n",
      "   - Giảm lượng muối trong chế độ ăn giúp kiểm soát huyết áp. Thay vì đường tinh luyện, nên chọn các nguồn carbohydrate tự nhiên như trái cây.\n",
      "\n",
      "5. **Kiểm soát khẩu phần ăn**:\n",
      "   - Giữ khẩu phần ăn hợp lý để kiểm soát cân nặng. Sự thừa cân có thể tăng nguy cơ mắc bệnh tim mạch.\n",
      "\n",
      "6. **Uống đủ nước**:\n",
      "   - Nước có vai trò quan trọng trong cơ thể và giúp duy trì chức năng tim mạch. Cố gắng uống đủ nước mỗi ngày.\n",
      "\n",
      "7. **Thực hiện thói quen ăn uống đều đặn**:\n",
      "   - Ngày nên ăn đủ bữa, tránh nhịn ăn, và không ăn quá no vào buổi tối.\n",
      "\n",
      "8. **Hạn chế rượu bia**:\n",
      "   - Nếu bạn uống rượu, hãy làm điều đó một cách có chừng mực. Đối với phụ nữ, nên giới hạn ở 1 ly/ngày và đối với nam giới là 2 ly/ngày.\n",
      "\n",
      "Cuối cùng, hãy nhớ theo dõi sức khỏe định kỳ và trao đổi với bác sĩ hoặc chuyên gia dinh dưỡng để có kế hoạch phù hợp với bản thân. Sức khỏe tim mạch cần một chiến lược tổng thể không chỉ trong chế độ ăn mà cả lối sống hàng ngày, bao gồm tập thể dục đều đặn và quản lý căng thẳng.\n",
      "\n",
      "--------------------------------------------------\n",
      "\n"
     ]
    }
   ],
   "source": [
    "from prompt_utils import send_prompt\n",
    "\n",
    "role_prompt = \"\"\"Bạn là một chuyên gia dinh dưỡng với hơn 15 năm kinh nghiệm. Hãy đưa ra lời khuyên về chế độ \n",
    "ăn uống cho một người muốn tăng cường sức khỏe tim mạch.\"\"\"\n",
    "\n",
    "system_message = \"Bạn là một chuyên gia dinh dưỡng với bằng Tiến sĩ Dinh dưỡng học và 15 năm kinh nghiệm làm việc với bệnh nhân tim mạch.\"\n",
    "\n",
    "result = send_prompt(role_prompt, system_message)\n",
    "print(\"Role prompting result:\")\n",
    "print(result)\n",
    "print(\"\\n\" + \"-\"*50 + \"\\n\")\n",
    "\n",
    "\n"
   ]
  }
 ],
 "metadata": {
  "kernelspec": {
   "display_name": "Python 3",
   "language": "python",
   "name": "python3"
  },
  "language_info": {
   "codemirror_mode": {
    "name": "ipython",
    "version": 3
   },
   "file_extension": ".py",
   "mimetype": "text/x-python",
   "name": "python",
   "nbconvert_exporter": "python",
   "pygments_lexer": "ipython3",
   "version": "3.10.11"
  }
 },
 "nbformat": 4,
 "nbformat_minor": 2
}

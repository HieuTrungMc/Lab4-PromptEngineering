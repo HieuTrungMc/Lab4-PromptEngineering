{
 "cells": [
  {
   "cell_type": "code",
   "execution_count": null,
   "metadata": {},
   "outputs": [
    {
     "name": "stdout",
     "output_type": "stream",
     "text": [
      "Few-shot headline generation result:\n",
      "Tiêu đề: 'NASA công bố kế hoạch đưa con người trở lại Mặt Trăng vào 2025 với sứ mệnh Artemis!'\n"
     ]
    }
   ],
   "source": [
    "from prompt_utils import send_prompt\n",
    "\n",
    "few_shot_prompt_generate_headline = \"\"\"\n",
    "Tạo tiêu đề bài báo hấp dẫn từ nội dung. Dưới đây là một số ví dụ:\n",
    "\n",
    "Nội dung: 'Apple vừa ra mắt iPhone mới với nhiều tính năng đột phá, bao gồm chip A16 mạnh mẽ và camera 48MP.'\n",
    "Tiêu đề: 'Apple ra mắt iPhone mới: Chip A16 và camera 48MP gây ấn tượng!'\n",
    "\n",
    "Nội dung: 'Một nghiên cứu mới cho thấy việc uống cà phê mỗi ngày có thể giúp giảm nguy cơ mắc bệnh tim.'\n",
    "Tiêu đề: 'Uống cà phê mỗi ngày: Bí quyết giảm nguy cơ bệnh tim!'\n",
    "\n",
    "Nội dung: 'Bộ phim bom tấn mới nhất của Marvel đã phá vỡ kỷ lục doanh thu phòng vé trong tuần đầu tiên.'\n",
    "Tiêu đề: 'Bom tấn Marvel phá kỷ lục doanh thu phòng vé tuần đầu tiên!'\n",
    "\n",
    "Bây giờ, hãy tạo tiêu đề hấp dẫn cho nội dung sau:\n",
    "Nội dung: 'NASA vừa công bố kế hoạch đưa con người trở lại Mặt Trăng vào năm 2025 với sứ mệnh Artemis.'\n",
    "\"\"\"\n",
    "result_generate_headline = send_prompt(few_shot_prompt_generate_headline)\n",
    "print(\"Few-shot headline generation result:\")\n",
    "print(result_generate_headline)"
   ]
  }
 ],
 "metadata": {
  "kernelspec": {
   "display_name": "Python 3",
   "language": "python",
   "name": "python3"
  },
  "language_info": {
   "codemirror_mode": {
    "name": "ipython",
    "version": 3
   },
   "file_extension": ".py",
   "mimetype": "text/x-python",
   "name": "python",
   "nbconvert_exporter": "python",
   "pygments_lexer": "ipython3",
   "version": "3.10.11"
  }
 },
 "nbformat": 4,
 "nbformat_minor": 2
}

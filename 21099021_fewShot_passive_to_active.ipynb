{
 "cells": [
  {
   "cell_type": "code",
   "execution_count": 1,
   "metadata": {},
   "outputs": [
    {
     "name": "stdout",
     "output_type": "stream",
     "text": [
      "Few-shot passive-to-active result:\n",
      "Chủ động: 'Hàng triệu người đã đọc cuốn sách.'\n"
     ]
    }
   ],
   "source": [
    "from prompt_utils import send_prompt\n",
    "\n",
    "few_shot_prompt_passive_to_active = \"\"\"\n",
    "Chuyển đổi các câu từ thể bị động sang thể chủ động. Dưới đây là một số ví dụ:\n",
    "\n",
    "Bị động: 'Bài báo đã được viết bởi một nhà báo nổi tiếng.'\n",
    "Chủ động: 'Một nhà báo nổi tiếng đã viết bài báo.'\n",
    "\n",
    "Bị động: 'Chiếc xe đã được sửa chữa bởi người thợ máy.'\n",
    "Chủ động: 'Người thợ máy đã sửa chữa chiếc xe.'\n",
    "\n",
    "Bị động: 'Bức tranh được vẽ bởi một họa sĩ tài năng.'\n",
    "Chủ động: 'Một họa sĩ tài năng đã vẽ bức tranh.'\n",
    "\n",
    "Bây giờ, hãy chuyển đổi câu sau từ thể bị động sang thể chủ động:\n",
    "Bị động: 'Cuốn sách đã được đọc bởi hàng triệu người.'\n",
    "\"\"\"\n",
    "result_passive_to_active = send_prompt(few_shot_prompt_passive_to_active)\n",
    "print(\"Few-shot passive-to-active result:\")\n",
    "print(result_passive_to_active)"
   ]
  }
 ],
 "metadata": {
  "kernelspec": {
   "display_name": "Python 3",
   "language": "python",
   "name": "python3"
  },
  "language_info": {
   "codemirror_mode": {
    "name": "ipython",
    "version": 3
   },
   "file_extension": ".py",
   "mimetype": "text/x-python",
   "name": "python",
   "nbconvert_exporter": "python",
   "pygments_lexer": "ipython3",
   "version": "3.10.11"
  }
 },
 "nbformat": 4,
 "nbformat_minor": 2
}

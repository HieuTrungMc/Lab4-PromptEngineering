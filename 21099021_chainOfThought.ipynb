{
 "cells": [
  {
   "cell_type": "code",
   "execution_count": 1,
   "metadata": {},
   "outputs": [
    {
     "name": "stdout",
     "output_type": "stream",
     "text": [
      "Chain-of-Thought result:\n",
      "Để tính tổng số tiền cần trả dựa trên số lượng trái cây và giá của từng loại, chúng ta thực hiện từng bước sau:\n",
      "\n",
      "1. **Tính tiền mỗi loại trái cây:**\n",
      "   - **Táo:** 2 kg * 15.000đ/kg = 30.000đ\n",
      "   - **Cam:** 1.5 kg * 20.000đ/kg = 30.000đ\n",
      "   - **Nho:** 0.5 kg * 35.000đ/kg = 17.500đ\n",
      "   - **Chuối:** 3 kg * 12.000đ/kg = 36.000đ\n",
      "   - **Dưa hấu:** 4 kg * 40.000đ/kg = 160.000đ\n",
      "\n",
      "2. **Tính tổng số tiền cần trả:**\n",
      "   - Tổng tiền = Tiền mua táo + Tiền mua cam + Tiền mua nho + Tiền mua chuối + Tiền mua dưa hấu\n",
      "   - Tổng tiền = 30.000đ + 30.000đ + 17.500đ + 36.000đ + 160.000đ\n",
      "\n",
      "3. **Giải toán:**\n",
      "   - Tổng tiền = 30.000đ + 30.000đ = 60.000đ\n",
      "   - 60.000đ + 17.500đ = 77.500đ\n",
      "   - 77.500đ + 36.000đ = 113.500đ\n",
      "   - 113.500đ + 160.000đ = 273.500đ\n",
      "\n",
      "Vậy tổng số tiền cần trả là **273.500đ**.\n",
      "\n",
      "--------------------------------------------------\n",
      "\n"
     ]
    }
   ],
   "source": [
    "from prompt_utils import send_prompt\n",
    "\n",
    "cot_prompt = \"\"\"Giải bài toán sau đây, hãy suy nghĩ từng bước:\n",
    "\n",
    "Một cửa hàng bán 5 loại trái cây: táo, cam, nho, chuối và dưa hấu. Giá của mỗi loại lần lượt là 15.000đ, 20.000đ, 35.000đ, 12.000đ và 40.000đ mỗi kg. Nếu mua 2kg táo, 1.5kg cam, 0.5kg nho, 3kg chuối và 4kg dưa hấu, tổng số tiền cần trả là bao nhiêu?\"\"\"\n",
    "\n",
    "result = send_prompt(cot_prompt)\n",
    "print(\"Chain-of-Thought result:\")\n",
    "print(result)\n",
    "print(\"\\n\" + \"-\"*50 + \"\\n\")\n"
   ]
  }
 ],
 "metadata": {
  "kernelspec": {
   "display_name": "Python 3",
   "language": "python",
   "name": "python3"
  },
  "language_info": {
   "codemirror_mode": {
    "name": "ipython",
    "version": 3
   },
   "file_extension": ".py",
   "mimetype": "text/x-python",
   "name": "python",
   "nbconvert_exporter": "python",
   "pygments_lexer": "ipython3",
   "version": "3.10.11"
  }
 },
 "nbformat": 4,
 "nbformat_minor": 2
}

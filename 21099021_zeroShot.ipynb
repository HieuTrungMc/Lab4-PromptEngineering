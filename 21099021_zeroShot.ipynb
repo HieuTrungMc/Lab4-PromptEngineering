{
 "cells": [
  {
   "cell_type": "code",
   "execution_count": 4,
   "metadata": {},
   "outputs": [
    {
     "name": "stdout",
     "output_type": "stream",
     "text": [
      "Zero-shot classification result:\n",
      "Đoạn văn này thuộc thể loại **Công nghệ**.\n"
     ]
    }
   ],
   "source": [
    "from prompt_utils import send_prompt\n",
    "\n",
    "zero_shot_prompt = \"\"\"\n",
    "Phân loại đoạn văn sau vào một trong các thể loại: Thể thao, Công nghệ, Giải trí, Chính trị, hoặc Khoa học.\n",
    "Đoạn văn: 'Apple vừa công bố iPhone mới với chip A16 và camera 48MP cải tiến.'\n",
    "\"\"\"\n",
    "\n",
    "result = send_prompt(zero_shot_prompt)\n",
    "print(\"Zero-shot classification result:\")\n",
    "print(result)"
   ]
  }
 ],
 "metadata": {
  "kernelspec": {
   "display_name": "Python 3",
   "language": "python",
   "name": "python3"
  },
  "language_info": {
   "codemirror_mode": {
    "name": "ipython",
    "version": 3
   },
   "file_extension": ".py",
   "mimetype": "text/x-python",
   "name": "python",
   "nbconvert_exporter": "python",
   "pygments_lexer": "ipython3",
   "version": "3.10.11"
  }
 },
 "nbformat": 4,
 "nbformat_minor": 2
}

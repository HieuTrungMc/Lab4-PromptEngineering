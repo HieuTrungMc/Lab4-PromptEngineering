{
 "cells": [
  {
   "cell_type": "code",
   "execution_count": 1,
   "metadata": {},
   "outputs": [
    {
     "name": "stdout",
     "output_type": "stream",
     "text": [
      "Role prompting definition result:\n",
      "Role prompting là một kỹ thuật trong lĩnh vực trí tuệ nhân tạo và xử lý ngôn ngữ tự nhiên, đặc biệt là khi tương tác với các mô hình ngôn ngữ như GPT. Kỹ thuật này liên quan đến việc cung cấp cho mô hình thông tin về vai trò hoặc ngữ cảnh cụ thể mà mô hình cần giả lập hoặc phản hồi dựa trên đó. \n",
      "\n",
      "Ví dụ, nếu bạn muốn mô hình hành xử như một giáo viên, bạn có thể bắt đầu yêu cầu với một câu như: \"Giả sử bạn là một giáo viên, hãy giải thích cho tôi về...\". Bằng cách này, bạn đang \"định hình\" vai trò của mô hình, giúp nó cung cấp câu trả lời phù hợp hơn với thế giới quan và phong cách của nhân vật mà bạn đã chỉ định.\n",
      "\n",
      "Role prompting có thể được sử dụng trong nhiều tình huống khác nhau, từ giáo dục cho đến sáng tạo nội dung, và nó giúp cải thiện chất lượng và tính liên quan của phản hồi mà mô hình cung cấp.\n",
      "\n",
      "--------------------------------------------------\n",
      "\n"
     ]
    }
   ],
   "source": [
    "from prompt_utils import send_prompt\n",
    "system_message = \"Role prompting là gì?\"\n",
    "\n",
    "result = send_prompt(system_message)\n",
    "print(\"Role prompting definition result:\")\n",
    "print(result)\n",
    "print(\"\\n\" + \"-\"*50 + \"\\n\")\n",
    "\n",
    "\n"
   ]
  }
 ],
 "metadata": {
  "kernelspec": {
   "display_name": "Python 3",
   "language": "python",
   "name": "python3"
  },
  "language_info": {
   "codemirror_mode": {
    "name": "ipython",
    "version": 3
   },
   "file_extension": ".py",
   "mimetype": "text/x-python",
   "name": "python",
   "nbconvert_exporter": "python",
   "pygments_lexer": "ipython3",
   "version": "3.10.11"
  }
 },
 "nbformat": 4,
 "nbformat_minor": 2
}

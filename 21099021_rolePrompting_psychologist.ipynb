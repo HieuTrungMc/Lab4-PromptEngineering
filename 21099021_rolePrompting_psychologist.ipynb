{
 "cells": [
  {
   "cell_type": "code",
   "execution_count": 1,
   "metadata": {},
   "outputs": [
    {
     "name": "stdout",
     "output_type": "stream",
     "text": [
      "Role prompting result (Psychologist):\n",
      "Chắc chắn rồi! Dưới đây là một số lời khuyên chi tiết và thực tế mà bạn có thể áp dụng để quản lý stress trong cuộc sống hàng ngày:\n",
      "\n",
      "### 1. Nhận diện nguồn gốc stress\n",
      "- **Ghi chép**: Hãy giữ một nhật ký để ghi lại những tình huống gây stress, cảm xúc của bạn và phản ứng của bạn. Điều này giúp bạn nhận diện rõ ràng hơn nguồn gốc của stress.\n",
      "- **Phân loại**: Xác định các tác nhân gây stress là từ công việc, gia đình hay mối quan hệ cá nhân để từ đó có chiến lược ứng phó thích hợp.\n",
      "\n",
      "### 2. Thực hành kỹ thuật thư giãn\n",
      "- **Thở sâu**: Dành ít phút mỗi ngày để tập thở sâu. Hít vào từ mũi và thở ra từ miệng sẽ giúp giảm lo âu và căng thẳng.\n",
      "- **Thiền và chánh niệm**: Dành thời gian mỗi ngày để thiền hoặc thực hành chánh niệm, giúp bạn tập trung vào hiện tại và giảm lo âu.\n",
      "- **Yoga**: Tham gia các lớp yoga hoặc luyện tập tại nhà có thể giúp cải thiện sức khoẻ thể chất và tinh thần.\n",
      "\n",
      "### 3. Duy trì lối sống lành mạnh\n",
      "- **Chế độ ăn uống**: Ăn nhiều rau củ, trái cây, và hạn chế thực phẩm chế biến sẵn. Đừng quên uống đủ nước.\n",
      "- **Luyện tập thể dục**: Tham gia các hoạt động thể thao từ 30 phút đến 1 giờ ít nhất 3-5 lần mỗi tuần. Tập thể dục không chỉ cải thiện sức khỏe mà còn giúp giải phóng endorphins – hormone hạnh phúc.\n",
      "- **Ngủ đủ giấc**: Đặt ra thói quen đi ngủ và thức dậy vào cùng một giờ mỗi ngày. Ngủ đủ giấc giúp cải thiện khả năng đối phó với stress.\n",
      "\n",
      "### 4. Quản lý thời gian hiệu quả\n",
      "- **Lập kế hoạch**: Sử dụng lịch hoặc ứng dụng quản lý thời gian để lên kế hoạch cho nhiệm vụ hàng ngày, tránh cảm giác quá tải.\n",
      "- **Thiết lập mục tiêu thực tế**: Chia mục tiêu lớn thành các bước nhỏ hơn và có thể quản lý được. Điều này giúp bạn không cảm thấy áp lực và dễ dàng đạt được chúng hơn.\n",
      "\n",
      "### 5. Kết nối với người khác\n",
      "- **Giao lưu xã hội**: Duy trì các mối quan hệ với bạn bè, gia đình và các đối tượng xã hội khác. Chia sẻ cảm xúc và suy nghĩ của bạn với người khác có thể giảm cảm giác cô đơn.\n",
      "- **Tham gia nhóm hỗ trợ**: Nếu bạn cảm thấy cần thêm sự hỗ trợ, hãy xem xét tham gia vào các nhóm hỗ trợ hoặc tìm đến các chuyên gia tâm lý.\n",
      "\n",
      "### 6. Học cách từ chối và thiết lập ranh giới\n",
      "- **Từ chối một cách lịch thiệp**: Đừng ngần ngại từ chối những yêu cầu mà bạn không thể hoặc không muốn thực hiện. Điều này giúp bạn không bị quá tải.\n",
      "- **Thiết lập ranh giới**: Học cách thiết lập và bảo vệ ranh giới cá nhân trong công việc và đời sống riêng để giữ gìn sức khỏe tinh thần.\n",
      "\n",
      "### 7. Tìm kiếm sự giúp đỡ khi cần thiết\n",
      "- **Hỗ trợ chuyên nghiệp**: Nếu bạn cảm thấy stress gây ảnh hưởng nghiêm trọng đến cuộc sống hàng ngày, đừng ngần ngại tìm kiếm sự hỗ trợ từ chuyên gia tâm lý.\n",
      "\n",
      "Áp dụng những cách trên một cách đều đặn có thể giúp bạn cải thiện khả năng quản lý stress và tăng cường sức khỏe tinh thần. Hãy nhớ rằng, mỗi người có cách đối phó khác nhau, hãy tìm ra những phương pháp phù hợp nhất với bản thân bạn.\n"
     ]
    }
   ],
   "source": [
    "from prompt_utils import send_prompt\n",
    "\n",
    "role_prompt_psychologist = \"\"\"Bạn là một chuyên gia tâm lý với hơn 20 năm kinh nghiệm. Hãy đưa ra lời khuyên chi tiết và thực tế về cách đối phó với stress trong cuộc sống hàng ngày.\"\"\"\n",
    "\n",
    "system_message_psychologist = \"Bạn là một chuyên gia tâm lý học lâm sàng, từng làm việc với hàng ngàn bệnh nhân, chuyên về quản lý stress và cải thiện sức khỏe tinh thần.\"\n",
    "\n",
    "result_psychologist = send_prompt(role_prompt_psychologist, system_message_psychologist)\n",
    "print(\"Role prompting result (Psychologist):\")\n",
    "print(result_psychologist)"
   ]
  }
 ],
 "metadata": {
  "kernelspec": {
   "display_name": "Python 3",
   "language": "python",
   "name": "python3"
  },
  "language_info": {
   "codemirror_mode": {
    "name": "ipython",
    "version": 3
   },
   "file_extension": ".py",
   "mimetype": "text/x-python",
   "name": "python",
   "nbconvert_exporter": "python",
   "pygments_lexer": "ipython3",
   "version": "3.10.11"
  }
 },
 "nbformat": 4,
 "nbformat_minor": 2
}

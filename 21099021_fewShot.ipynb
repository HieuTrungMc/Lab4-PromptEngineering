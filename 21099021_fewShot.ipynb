{
 "cells": [
  {
   "cell_type": "code",
   "execution_count": 1,
   "metadata": {},
   "outputs": [
    {
     "name": "stdout",
     "output_type": "stream",
     "text": [
      "Few-shot classification result:\n",
      "Phân loại: Chính trị\n",
      "\n",
      "--------------------------------------------------\n",
      "\n"
     ]
    }
   ],
   "source": [
    "from prompt_utils import send_prompt\n",
    "\n",
    "few_shot_prompt = \"\"\"\n",
    "Phân loại đoạn văn sau vào một trong các thể loại: Thể thao, Công nghệ, Giải trí, Chính trị, hoặc Khoa học.\n",
    "\n",
    "Ví dụ 1:\n",
    "Đoạn văn: 'Đội tuyển Việt Nam đã giành chiến thắng 2-1 trước Malaysia trong trận đấu tối qua.'\n",
    "Phân loại: Thể thao\n",
    "\n",
    "Ví dụ 2:\n",
    "Đoạn văn: 'NASA phóng tàu vũ trụ mới để khám phá sao Hỏa, dự kiến sẽ đáp xuống bề mặt trong 6 tháng tới.'\n",
    "Phân loại: Khoa học\n",
    "\n",
    "Đoạn văn cần phân loại: 'Chính phủ vừa thông qua dự luật mới về cải cách thuế trong phiên họp quốc hội.'\n",
    "Phân loại:\"\"\"\n",
    "\n",
    "result = send_prompt(few_shot_prompt)\n",
    "print(\"Few-shot classification result:\")\n",
    "print(result)\n",
    "print(\"\\n\" + \"-\"*50 + \"\\n\")"
   ]
  }
 ],
 "metadata": {
  "kernelspec": {
   "display_name": "Python 3",
   "language": "python",
   "name": "python3"
  },
  "language_info": {
   "codemirror_mode": {
    "name": "ipython",
    "version": 3
   },
   "file_extension": ".py",
   "mimetype": "text/x-python",
   "name": "python",
   "nbconvert_exporter": "python",
   "pygments_lexer": "ipython3",
   "version": "3.10.11"
  }
 },
 "nbformat": 4,
 "nbformat_minor": 2
}
